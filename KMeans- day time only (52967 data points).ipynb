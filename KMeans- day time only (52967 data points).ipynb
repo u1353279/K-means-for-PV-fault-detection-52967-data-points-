{
 "cells": [
  {
   "cell_type": "markdown",
   "metadata": {},
   "source": [
    "# Creating a K-means clusterig model to find the fault classes in a PV installation"
   ]
  },
  {
   "cell_type": "markdown",
   "metadata": {},
   "source": [
    "Importing Modules"
   ]
  },
  {
   "cell_type": "code",
   "execution_count": 2,
   "metadata": {},
   "outputs": [],
   "source": [
    "from sklearn.cluster import KMeans\n",
    "from sklearn.preprocessing import MinMaxScaler\n",
    "from matplotlib import pyplot as plt\n",
    "%matplotlib inline\n",
    "import pandas as pd"
   ]
  },
  {
   "cell_type": "markdown",
   "metadata": {},
   "source": [
    "Reading data"
   ]
  },
  {
   "cell_type": "code",
   "execution_count": 4,
   "metadata": {},
   "outputs": [
    {
     "data": {
      "text/html": [
       "<div>\n",
       "<style scoped>\n",
       "    .dataframe tbody tr th:only-of-type {\n",
       "        vertical-align: middle;\n",
       "    }\n",
       "\n",
       "    .dataframe tbody tr th {\n",
       "        vertical-align: top;\n",
       "    }\n",
       "\n",
       "    .dataframe thead th {\n",
       "        text-align: right;\n",
       "    }\n",
       "</style>\n",
       "<table border=\"1\" class=\"dataframe\">\n",
       "  <thead>\n",
       "    <tr style=\"text-align: right;\">\n",
       "      <th></th>\n",
       "      <th>G</th>\n",
       "      <th>P</th>\n",
       "    </tr>\n",
       "  </thead>\n",
       "  <tbody>\n",
       "    <tr>\n",
       "      <td>0</td>\n",
       "      <td>0.008667</td>\n",
       "      <td>0.018119</td>\n",
       "    </tr>\n",
       "    <tr>\n",
       "      <td>1</td>\n",
       "      <td>0.164500</td>\n",
       "      <td>0.369489</td>\n",
       "    </tr>\n",
       "    <tr>\n",
       "      <td>2</td>\n",
       "      <td>0.717500</td>\n",
       "      <td>1.601420</td>\n",
       "    </tr>\n",
       "    <tr>\n",
       "      <td>3</td>\n",
       "      <td>0.902167</td>\n",
       "      <td>1.973920</td>\n",
       "    </tr>\n",
       "    <tr>\n",
       "      <td>4</td>\n",
       "      <td>1.086000</td>\n",
       "      <td>2.448440</td>\n",
       "    </tr>\n",
       "  </tbody>\n",
       "</table>\n",
       "</div>"
      ],
      "text/plain": [
       "          G         P\n",
       "0  0.008667  0.018119\n",
       "1  0.164500  0.369489\n",
       "2  0.717500  1.601420\n",
       "3  0.902167  1.973920\n",
       "4  1.086000  2.448440"
      ]
     },
     "execution_count": 4,
     "metadata": {},
     "output_type": "execute_result"
    }
   ],
   "source": [
    "df=pd.read_excel('K3.xlsx')\n",
    "df.head()"
   ]
  },
  {
   "cell_type": "markdown",
   "metadata": {},
   "source": [
    "plotting relatioship between the variables"
   ]
  },
  {
   "cell_type": "code",
   "execution_count": 5,
   "metadata": {},
   "outputs": [
    {
     "data": {
      "text/plain": [
       "Text(0, 0.5, 'power')"
      ]
     },
     "execution_count": 5,
     "metadata": {},
     "output_type": "execute_result"
    },
    {
     "data": {
      "image/png": "[encoded data removed]",
      "text/plain": [
       "<Figure size 432x288 with 1 Axes>"
      ]
     },
     "metadata": {
      "needs_background": "light"
     },
     "output_type": "display_data"
    }
   ],
   "source": [
    "plt.scatter(df.G,df.P,df.T)\n",
    "plt.xlabel('irradiance',)\n",
    "plt.ylabel('power')"
   ]
  },
  {
   "cell_type": "markdown",
   "metadata": {},
   "source": [
    "Creating the cluster"
   ]
  },
  {
   "cell_type": "code",
   "execution_count": 7,
   "metadata": {},
   "outputs": [
    {
     "data": {
      "text/plain": [
       "KMeans(algorithm='auto', copy_x=True, init='k-means++', max_iter=300,\n",
       "       n_clusters=10, n_init=10, n_jobs=None, precompute_distances='auto',\n",
       "       random_state=None, tol=0.0001, verbose=0)"
      ]
     },
     "execution_count": 7,
     "metadata": {},
     "output_type": "execute_result"
    }
   ],
   "source": [
    "km=KMeans(n_clusters=10)\n",
    "km"
   ]
  },
  {
   "cell_type": "markdown",
   "metadata": {},
   "source": [
    "predicting cluster values"
   ]
  },
  {
   "cell_type": "code",
   "execution_count": 8,
   "metadata": {},
   "outputs": [
    {
     "data": {
      "text/plain": [
       "array([4, 4, 4, ..., 4, 4, 4])"
      ]
     },
     "execution_count": 8,
     "metadata": {},
     "output_type": "execute_result"
    }
   ],
   "source": [
    "y_pred=km.fit_predict(df)\n",
    "y_pred"
   ]
  },
  {
   "cell_type": "code",
   "execution_count": 9,
   "metadata": {},
   "outputs": [
    {
     "data": {
      "text/html": [
       "<div>\n",
       "<style scoped>\n",
       "    .dataframe tbody tr th:only-of-type {\n",
       "        vertical-align: middle;\n",
       "    }\n",
       "\n",
       "    .dataframe tbody tr th {\n",
       "        vertical-align: top;\n",
       "    }\n",
       "\n",
       "    .dataframe thead th {\n",
       "        text-align: right;\n",
       "    }\n",
       "</style>\n",
       "<table border=\"1\" class=\"dataframe\">\n",
       "  <thead>\n",
       "    <tr style=\"text-align: right;\">\n",
       "      <th></th>\n",
       "      <th>G</th>\n",
       "      <th>P</th>\n",
       "      <th>cluster</th>\n",
       "    </tr>\n",
       "  </thead>\n",
       "  <tbody>\n",
       "    <tr>\n",
       "      <td>0</td>\n",
       "      <td>0.008667</td>\n",
       "      <td>0.018119</td>\n",
       "      <td>4</td>\n",
       "    </tr>\n",
       "    <tr>\n",
       "      <td>1</td>\n",
       "      <td>0.164500</td>\n",
       "      <td>0.369489</td>\n",
       "      <td>4</td>\n",
       "    </tr>\n",
       "    <tr>\n",
       "      <td>2</td>\n",
       "      <td>0.717500</td>\n",
       "      <td>1.601420</td>\n",
       "      <td>4</td>\n",
       "    </tr>\n",
       "    <tr>\n",
       "      <td>3</td>\n",
       "      <td>0.902167</td>\n",
       "      <td>1.973920</td>\n",
       "      <td>4</td>\n",
       "    </tr>\n",
       "    <tr>\n",
       "      <td>4</td>\n",
       "      <td>1.086000</td>\n",
       "      <td>2.448440</td>\n",
       "      <td>4</td>\n",
       "    </tr>\n",
       "  </tbody>\n",
       "</table>\n",
       "</div>"
      ],
      "text/plain": [
       "          G         P  cluster\n",
       "0  0.008667  0.018119        4\n",
       "1  0.164500  0.369489        4\n",
       "2  0.717500  1.601420        4\n",
       "3  0.902167  1.973920        4\n",
       "4  1.086000  2.448440        4"
      ]
     },
     "execution_count": 9,
     "metadata": {},
     "output_type": "execute_result"
    }
   ],
   "source": [
    "df['cluster']=y_pred\n",
    "df.head()"
   ]
  },
  {
   "cell_type": "markdown",
   "metadata": {},
   "source": [
    "Plotting the cluster"
   ]
  },
  {
   "cell_type": "code",
   "execution_count": 10,
   "metadata": {},
   "outputs": [
    {
     "data": {
      "text/plain": [
       "Text(0, 0.5, 'P')"
      ]
     },
     "execution_count": 10,
     "metadata": {},
     "output_type": "execute_result"
    },
    {
     "data": {
      "image/png": "[encoded data removed]",
      "text/plain": [
       "<Figure size 432x288 with 1 Axes>"
      ]
     },
     "metadata": {
      "needs_background": "light"
     },
     "output_type": "display_data"
    }
   ],
   "source": [
    "df0=df[df.cluster==0]\n",
    "df1=df[df.cluster==1]\n",
    "df2=df[df.cluster==2]\n",
    "df3=df[df.cluster==3]\n",
    "df4=df[df.cluster==4]\n",
    "df5=df[df.cluster==5]\n",
    "df6=df[df.cluster==6]\n",
    "df7=df[df.cluster==7]\n",
    "df8=df[df.cluster==8]\n",
    "df9=df[df.cluster==9]\n",
    "plt.scatter(df0.G,df0.P, color='g')\n",
    "plt.scatter(df1.G,df1.P, color='b')\n",
    "plt.scatter(df2.G,df2.P, color='blue')\n",
    "plt.scatter(df3.G,df3.P, color='y')\n",
    "plt.scatter(df4.G,df4.P, color='r')\n",
    "plt.scatter(df5.G,df5.P, color='orange')\n",
    "plt.scatter(df6.G,df6.P, color='purple')\n",
    "plt.scatter(df7.G,df7.P, color='grey')\n",
    "plt.scatter(df8.G,df8.P, color='brown')\n",
    "plt.scatter(df9.G,df9.P, color='brown')\n",
    "\n",
    "plt.xlabel('G')\n",
    "plt.ylabel('P')"
   ]
  },
  {
   "cell_type": "markdown",
   "metadata": {},
   "source": [
    "Carrying out Normalisation for more effiecient results"
   ]
  },
  {
   "cell_type": "code",
   "execution_count": 11,
   "metadata": {},
   "outputs": [
    {
     "data": {
      "text/html": [
       "<div>\n",
       "<style scoped>\n",
       "    .dataframe tbody tr th:only-of-type {\n",
       "        vertical-align: middle;\n",
       "    }\n",
       "\n",
       "    .dataframe tbody tr th {\n",
       "        vertical-align: top;\n",
       "    }\n",
       "\n",
       "    .dataframe thead th {\n",
       "        text-align: right;\n",
       "    }\n",
       "</style>\n",
       "<table border=\"1\" class=\"dataframe\">\n",
       "  <thead>\n",
       "    <tr style=\"text-align: right;\">\n",
       "      <th></th>\n",
       "      <th>G</th>\n",
       "      <th>P</th>\n",
       "      <th>cluster</th>\n",
       "    </tr>\n",
       "  </thead>\n",
       "  <tbody>\n",
       "    <tr>\n",
       "      <td>0</td>\n",
       "      <td>0.000011</td>\n",
       "      <td>0.000014</td>\n",
       "      <td>4</td>\n",
       "    </tr>\n",
       "    <tr>\n",
       "      <td>1</td>\n",
       "      <td>0.000205</td>\n",
       "      <td>0.000295</td>\n",
       "      <td>4</td>\n",
       "    </tr>\n",
       "    <tr>\n",
       "      <td>2</td>\n",
       "      <td>0.000896</td>\n",
       "      <td>0.001279</td>\n",
       "      <td>4</td>\n",
       "    </tr>\n",
       "    <tr>\n",
       "      <td>3</td>\n",
       "      <td>0.001126</td>\n",
       "      <td>0.001576</td>\n",
       "      <td>4</td>\n",
       "    </tr>\n",
       "    <tr>\n",
       "      <td>4</td>\n",
       "      <td>0.001356</td>\n",
       "      <td>0.001955</td>\n",
       "      <td>4</td>\n",
       "    </tr>\n",
       "  </tbody>\n",
       "</table>\n",
       "</div>"
      ],
      "text/plain": [
       "          G         P  cluster\n",
       "0  0.000011  0.000014        4\n",
       "1  0.000205  0.000295        4\n",
       "2  0.000896  0.001279        4\n",
       "3  0.001126  0.001576        4\n",
       "4  0.001356  0.001955        4"
      ]
     },
     "execution_count": 11,
     "metadata": {},
     "output_type": "execute_result"
    }
   ],
   "source": [
    "scaler= MinMaxScaler()\n",
    "scaler.fit(df[['G']])\n",
    "df[['G']]=scaler.transform(df[['G']])\n",
    "scaler.fit(df[['P']])\n",
    "df[['P']]=scaler.transform(df[['P']])\n",
    "df.head()"
   ]
  },
  {
   "cell_type": "code",
   "execution_count": 12,
   "metadata": {},
   "outputs": [
    {
     "data": {
      "text/plain": [
       "array([8, 8, 8, ..., 8, 8, 8])"
      ]
     },
     "execution_count": 12,
     "metadata": {},
     "output_type": "execute_result"
    }
   ],
   "source": [
    "km=KMeans(n_clusters=10)\n",
    "y_pred=km.fit_predict(df[['G','P']])\n",
    "y_pred"
   ]
  },
  {
   "cell_type": "code",
   "execution_count": 13,
   "metadata": {},
   "outputs": [],
   "source": [
    "df['cluster']=y_pred"
   ]
  },
  {
   "cell_type": "code",
   "execution_count": 14,
   "metadata": {},
   "outputs": [
    {
     "data": {
      "text/plain": [
       "Text(0, 0.5, 'P')"
      ]
     },
     "execution_count": 14,
     "metadata": {},
     "output_type": "execute_result"
    },
    {
     "data": {
      "image/png": "[encoded data removed]",
      "text/plain": [
       "<Figure size 432x288 with 1 Axes>"
      ]
     },
     "metadata": {
      "needs_background": "light"
     },
     "output_type": "display_data"
    }
   ],
   "source": [
    "df0=df[df.cluster==0]\n",
    "df1=df[df.cluster==1]\n",
    "df2=df[df.cluster==2]\n",
    "df3=df[df.cluster==3]\n",
    "df4=df[df.cluster==4]\n",
    "df5=df[df.cluster==5]\n",
    "df6=df[df.cluster==6]\n",
    "df7=df[df.cluster==7]\n",
    "df8=df[df.cluster==8]\n",
    "df9=df[df.cluster==9]\n",
    "plt.scatter(df0.G,df0.P, color='g')\n",
    "plt.scatter(df1.G,df1.P, color='b')\n",
    "plt.scatter(df2.G,df2.P, color='blue')\n",
    "plt.scatter(df3.G,df3.P, color='y')\n",
    "plt.scatter(df4.G,df4.P, color='r')\n",
    "plt.scatter(df5.G,df5.P, color='orange')\n",
    "plt.scatter(df6.G,df6.P, color='purple')\n",
    "plt.scatter(df7.G,df7.P, color='grey')\n",
    "plt.scatter(df8.G,df8.P, color='brown')\n",
    "plt.scatter(df9.G,df9.P, color='brown')\n",
    "\n",
    "plt.xlabel('G')\n",
    "plt.ylabel('P')"
   ]
  },
  {
   "cell_type": "markdown",
   "metadata": {},
   "source": [
    "obtaining the centroids for each cluster"
   ]
  },
  {
   "cell_type": "code",
   "execution_count": 15,
   "metadata": {},
   "outputs": [
    {
     "data": {
      "text/plain": [
       "array([[0.13672855, 0.0750872 ],\n",
       "       [0.39525623, 0.40351347],\n",
       "       [0.34317807, 0.22677206],\n",
       "       [0.65793665, 0.7223019 ],\n",
       "       [0.51123152, 0.15864347],\n",
       "       [0.25231724, 0.31320242],\n",
       "       [0.30434645, 0.08887045],\n",
       "       [0.52253573, 0.52579376],\n",
       "       [0.02889737, 0.01802417],\n",
       "       [0.18776429, 0.19505131]])"
      ]
     },
     "execution_count": 15,
     "metadata": {},
     "output_type": "execute_result"
    }
   ],
   "source": [
    "km.cluster_centers_"
   ]
  },
  {
   "cell_type": "code",
   "execution_count": 16,
   "metadata": {},
   "outputs": [
    {
     "data": {
      "text/plain": [
       "Text(0, 0.5, 'P')"
      ]
     },
     "execution_count": 16,
     "metadata": {},
     "output_type": "execute_result"
    },
    {
     "data": {
      "image/png": "[encoded data removed]",
      "text/plain": [
       "<Figure size 432x288 with 1 Axes>"
      ]
     },
     "metadata": {
      "needs_background": "light"
     },
     "output_type": "display_data"
    }
   ],
   "source": [
    "df0=df[df.cluster==0]\n",
    "df1=df[df.cluster==1]\n",
    "df2=df[df.cluster==2]\n",
    "df3=df[df.cluster==3]\n",
    "df4=df[df.cluster==4]\n",
    "df5=df[df.cluster==5]\n",
    "df6=df[df.cluster==6]\n",
    "df7=df[df.cluster==7]\n",
    "df8=df[df.cluster==8]\n",
    "df9=df[df.cluster==9]\n",
    "plt.scatter(df0.G,df0.P, color='g')\n",
    "plt.scatter(df1.G,df1.P, color='b')\n",
    "plt.scatter(df2.G,df2.P, color='blue')\n",
    "plt.scatter(df3.G,df3.P, color='y')\n",
    "plt.scatter(df4.G,df4.P, color='r')\n",
    "plt.scatter(df5.G,df5.P, color='orange')\n",
    "plt.scatter(df6.G,df6.P, color='purple')\n",
    "plt.scatter(df7.G,df7.P, color='grey')\n",
    "plt.scatter(df8.G,df8.P, color='brown')\n",
    "plt.scatter(df9.G,df9.P, color='brown')\n",
    "plt.scatter(km.cluster_centers_[:,0],km.cluster_centers_[:,1], color='r', marker='*')\n",
    "\n",
    "plt.xlabel('G')\n",
    "plt.ylabel('P')"
   ]
  },
  {
   "cell_type": "markdown",
   "metadata": {},
   "source": [
    "Implementing a the elbow technique to find the optimal K value"
   ]
  },
  {
   "cell_type": "code",
   "execution_count": 17,
   "metadata": {},
   "outputs": [],
   "source": [
    "k_range=range(1,11)\n",
    "sse=[]\n",
    "for k in k_range:\n",
    "    km=KMeans(n_clusters=k)\n",
    "    km.fit(df[['G','P']])\n",
    "    sse.append(km.inertia_)"
   ]
  },
  {
   "cell_type": "code",
   "execution_count": 18,
   "metadata": {},
   "outputs": [
    {
     "data": {
      "text/plain": [
       "[3216.8677071340853,\n",
       " 1379.5409499438729,\n",
       " 797.0322786262485,\n",
       " 604.3703516534714,\n",
       " 445.4919269035332,\n",
       " 344.8336365411029,\n",
       " 296.1284473203027,\n",
       " 248.49941002769506,\n",
       " 219.40112973076245,\n",
       " 199.4957240771093]"
      ]
     },
     "execution_count": 18,
     "metadata": {},
     "output_type": "execute_result"
    }
   ],
   "source": [
    "sse"
   ]
  },
  {
   "cell_type": "code",
   "execution_count": 24,
   "metadata": {},
   "outputs": [
    {
     "data": {
      "text/plain": [
       "[<matplotlib.lines.Line2D at 0x2be1b1e1548>]"
      ]
     },
     "execution_count": 24,
     "metadata": {},
     "output_type": "execute_result"
    },
    {
     "data": {
      "image/png": "[encoded data removed]",
      "text/plain": [
       "<Figure size 432x288 with 1 Axes>"
      ]
     },
     "metadata": {
      "needs_background": "light"
     },
     "output_type": "display_data"
    }
   ],
   "source": [
    "plt.plot(k_range,sse)"
   ]
  },
  {
   "cell_type": "markdown",
   "metadata": {},
   "source": [
    "Fitting the model with the new K value as 3"
   ]
  },
  {
   "cell_type": "code",
   "execution_count": 19,
   "metadata": {},
   "outputs": [],
   "source": [
    "km=KMeans(n_clusters=3)\n",
    "y_pred=km.fit_predict(df[['G','P']])"
   ]
  },
  {
   "cell_type": "code",
   "execution_count": 20,
   "metadata": {},
   "outputs": [],
   "source": [
    "df['cluster']=y_pred"
   ]
  },
  {
   "cell_type": "code",
   "execution_count": 22,
   "metadata": {},
   "outputs": [
    {
     "data": {
      "text/plain": [
       "Text(0, 0.5, 'P')"
      ]
     },
     "execution_count": 22,
     "metadata": {},
     "output_type": "execute_result"
    },
    {
     "data": {
      "image/png": "[encoded data removed]",
      "text/plain": [
       "<Figure size 432x288 with 1 Axes>"
      ]
     },
     "metadata": {
      "needs_background": "light"
     },
     "output_type": "display_data"
    }
   ],
   "source": [
    "df0=df[df.cluster==0]\n",
    "df1=df[df.cluster==1]\n",
    "df2=df[df.cluster==2]\n",
    "\n",
    "plt.scatter(df0.G,df0.P, color='g')\n",
    "plt.scatter(df1.G,df1.P, color='black')\n",
    "plt.scatter(df2.G,df2.P, color='blue')\n",
    "\n",
    "plt.scatter(km.cluster_centers_[:,0],km.cluster_centers_[:,1], color='r', marker='*')\n",
    "\n",
    "plt.xlabel('G')\n",
    "plt.ylabel('P')"
   ]
  }
 ],
 "metadata": {
  "kernelspec": {
   "display_name": "Python 3",
   "language": "python",
   "name": "python3"
  },
  "language_info": {
   "codemirror_mode": {
    "name": "ipython",
    "version": 3
   },
   "file_extension": ".py",
   "mimetype": "text/x-python",
   "name": "python",
   "nbconvert_exporter": "python",
   "pygments_lexer": "ipython3",
   "version": "3.7.4"
  }
 },
 "nbformat": 4,
 "nbformat_minor": 2
}
